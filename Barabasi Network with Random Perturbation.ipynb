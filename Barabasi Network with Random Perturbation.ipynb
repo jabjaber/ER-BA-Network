{
  "cells": [
    {
      "cell_type": "markdown",
      "id": "70f110b1",
      "metadata": {
        "id": "70f110b1"
      },
      "source": [
        "# Imports\n"
      ]
    },
    {
      "cell_type": "code",
      "execution_count": null,
      "id": "7de7e7f1-03e7-467d-b305-46e17f9f3e8a",
      "metadata": {
        "id": "7de7e7f1-03e7-467d-b305-46e17f9f3e8a"
      },
      "outputs": [],
      "source": [
        "import networkx as nx\n",
        "import matplotlib.pyplot as plt\n",
        "import random\n",
        "import numpy as np"
      ]
    },
    {
      "cell_type": "markdown",
      "id": "6a4df01b",
      "metadata": {
        "id": "6a4df01b"
      },
      "source": [
        "# Initial conditions"
      ]
    },
    {
      "cell_type": "code",
      "execution_count": null,
      "id": "49a36dbd-7d26-4061-ae55-4cb0bab6f85a",
      "metadata": {
        "tags": [],
        "id": "49a36dbd-7d26-4061-ae55-4cb0bab6f85a"
      },
      "outputs": [],
      "source": [
        "N=30\n",
        "Add=270\n",
        "nf=N+Add\n",
        "p=.8\n",
        "m=5"
      ]
    },
    {
      "cell_type": "markdown",
      "id": "fe428e77",
      "metadata": {
        "id": "fe428e77"
      },
      "source": [
        "# Initial core"
      ]
    },
    {
      "cell_type": "code",
      "execution_count": null,
      "id": "ea732a8f-d3a9-475a-8060-e2e9941ac25b",
      "metadata": {
        "tags": [],
        "id": "ea732a8f-d3a9-475a-8060-e2e9941ac25b"
      },
      "outputs": [],
      "source": [
        "ini=N\n",
        "def initial(p):\n",
        "    if (p<1):          #Binomial initial condition\n",
        "        inode=[]\n",
        "        ilink=[]\n",
        "        bi = np.ndarray.tolist(np.random.binomial(N-1,p,N))\n",
        "        for i in range (N):\n",
        "            inode.append(i+1)\n",
        "            ilink.append(bi[i])\n",
        "\n",
        "    else:               #fixed initial condition\n",
        "        inode=[]\n",
        "        ilink=[]\n",
        "        n=p             #Enter N and n here\n",
        "        for i in range (N):\n",
        "            inode.append(i+1)\n",
        "            ilink.append(n)\n",
        "    return [inode,ilink]"
      ]
    },
    {
      "cell_type": "code",
      "execution_count": null,
      "id": "db99e3d1-3d82-4978-971c-eaaa53535f36",
      "metadata": {
        "id": "db99e3d1-3d82-4978-971c-eaaa53535f36"
      },
      "outputs": [],
      "source": [
        "init=initial(p)\n",
        "inode=init[0].copy()\n",
        "ilink=init[1].copy()"
      ]
    },
    {
      "cell_type": "code",
      "execution_count": null,
      "id": "fb9aa736-c765-4ba8-8bb9-930cb18021d7",
      "metadata": {
        "id": "fb9aa736-c765-4ba8-8bb9-930cb18021d7",
        "outputId": "86315760-deb8-465c-ab40-648cb9a50094",
        "colab": {
          "base_uri": "https://localhost:8080/"
        }
      },
      "outputs": [
        {
          "output_type": "stream",
          "name": "stdout",
          "text": [
            "[24, 20, 21, 22, 16, 19, 27, 24, 22, 24, 22, 25, 19, 24, 23, 22, 22, 23, 24, 21, 25, 24, 23, 21, 24, 20, 23, 27, 22, 20]\n"
          ]
        }
      ],
      "source": [
        "print(ilink)"
      ]
    },
    {
      "cell_type": "code",
      "execution_count": null,
      "id": "26b2396a-c054-41ca-8af7-899ca44b932b",
      "metadata": {
        "scrolled": true,
        "tags": [],
        "id": "26b2396a-c054-41ca-8af7-899ca44b932b",
        "outputId": "629798df-b481-4e18-be78-6213fbdc8ed3",
        "colab": {
          "base_uri": "https://localhost:8080/"
        }
      },
      "outputs": [
        {
          "output_type": "stream",
          "name": "stdout",
          "text": [
            " Nodes : [1, 2, 3, 4, 5, 6, 7, 8, 9, 10, 11, 12, 13, 14, 15, 16, 17, 18, 19, 20, 21, 22, 23, 24, 25, 26, 27, 28, 29, 30] \n",
            " \n",
            " links : [24, 20, 21, 22, 16, 19, 27, 24, 22, 24, 22, 25, 19, 24, 23, 22, 22, 23, 24, 21, 25, 24, 23, 21, 24, 20, 23, 27, 22, 20] \n",
            " \n",
            " Length of list of nodes and links : 30 30\n"
          ]
        }
      ],
      "source": [
        "print(\" Nodes :\",inode,\"\\n\",\"\\n\",\"links :\",ilink,\"\\n\",\"\\n\",\"Length of list of nodes and links :\",len(inode),len(ilink))\n"
      ]
    },
    {
      "cell_type": "markdown",
      "id": "63b9e399",
      "metadata": {
        "id": "63b9e399"
      },
      "source": [
        "# Final link distribution"
      ]
    },
    {
      "cell_type": "code",
      "execution_count": null,
      "id": "2ac44e0c-54e6-4aa6-9716-3f5b21ff0fba",
      "metadata": {
        "id": "2ac44e0c-54e6-4aa6-9716-3f5b21ff0fba"
      },
      "outputs": [],
      "source": [
        "def New(x,y):\n",
        "    node=x.copy()\n",
        "    link=y.copy()\n",
        "    for l in range(Add):\n",
        "        sum=0\n",
        "        for i in link: sum+=i\n",
        "        nlink=[link[0]/sum]\n",
        "        for j in range(1,len(link)): nlink.append(nlink[j-1]+(link[j])/sum)\n",
        "        k=1;err=0\n",
        "        b=[]\n",
        "        while(k<=m):\n",
        "            ran=random.uniform(0,1)\n",
        "            for i in range(len(nlink)):\n",
        "                if (ran<= nlink[i]):\n",
        "                    a=i\n",
        "                    if a not in b:\n",
        "                        link[a]+=1\n",
        "                        b.append(a)\n",
        "                        k+=1\n",
        "                    break\n",
        "            err+=0.01\n",
        "            if err==100 :\n",
        "                print(\"error occured\")\n",
        "                break\n",
        "        t=(node[-1])+1\n",
        "        node.append(t)\n",
        "        link.append(m)\n",
        "    return [node,link]"
      ]
    },
    {
      "cell_type": "markdown",
      "id": "ffeddd1d-b27d-4378-8805-b3751d744df1",
      "metadata": {
        "id": "ffeddd1d-b27d-4378-8805-b3751d744df1"
      },
      "source": [
        "# Introducing internal links"
      ]
    },
    {
      "cell_type": "code",
      "execution_count": null,
      "id": "f8118597",
      "metadata": {
        "id": "f8118597"
      },
      "outputs": [],
      "source": [
        "def perterb(A):\n",
        "    inode=[]\n",
        "    ilink=[]\n",
        "    bi=[]\n",
        "    N=len(A)\n",
        "    for i in range(N):\n",
        "        bi+=np.ndarray.tolist(np.random.binomial(N-1-A[i],p2,1))\n",
        "    for i in range (N):\n",
        "        inode.append(i+1)\n",
        "        ilink.append(bi[i])\n",
        "    final = [a + b for a, b in zip(A, ilink)]\n",
        "    return final\n"
      ]
    },
    {
      "cell_type": "code",
      "execution_count": null,
      "id": "d0b2afe2",
      "metadata": {
        "id": "d0b2afe2"
      },
      "outputs": [],
      "source": [
        "def barabasi(t):\n",
        "    B=perterb(A)\n",
        "    if t==1:\n",
        "        return B\n",
        "    else :\n",
        "        return A"
      ]
    },
    {
      "cell_type": "code",
      "execution_count": null,
      "id": "ce43ce92-73b2-416f-9ab6-cb772be1d1f5",
      "metadata": {
        "id": "ce43ce92-73b2-416f-9ab6-cb772be1d1f5",
        "outputId": "e5d23d8b-9650-4624-9a40-b10644de0e63",
        "colab": {
          "base_uri": "https://localhost:8080/"
        }
      },
      "outputs": [
        {
          "output_type": "stream",
          "name": "stdout",
          "text": [
            "[297, 292, 304, 285, 285, 280, 309, 314, 287, 294, 288, 304, 292, 279, 301, 306, 286, 280, 292, 285, 302, 292, 302, 286, 284, 276, 294, 280, 292, 289, 242, 255, 255, 241, 255, 262, 251, 254, 246, 247, 244, 252, 258, 254, 253, 252, 246, 264, 244, 245, 244, 250, 263, 252, 261, 250, 233, 253, 226, 238, 244, 238, 255, 255, 236, 250, 252, 253, 251, 248, 239, 246, 252, 240, 262, 248, 252, 257, 252, 250, 253, 244, 238, 258, 253, 251, 251, 241, 232, 257, 246, 248, 244, 241, 246, 244, 257, 250, 249, 251, 234, 236, 248, 247, 245, 233, 251, 243, 238, 246, 258, 258, 253, 250, 253, 240, 241, 244, 234, 222, 243, 245, 250, 248, 255, 240, 253, 245, 247, 247, 243, 244, 261, 253, 242, 236, 241, 229, 247, 245, 238, 239, 244, 246, 234, 236, 244, 230, 237, 244, 251, 258, 240, 249, 235, 256, 252, 248, 237, 241, 246, 239, 241, 244, 240, 236, 243, 246, 237, 252, 256, 239, 244, 258, 244, 235, 247, 239, 248, 244, 230, 245, 248, 245, 246, 243, 250, 244, 238, 246, 255, 234, 234, 243, 228, 238, 246, 243, 236, 232, 248, 252, 260, 245, 250, 246, 237, 240, 239, 245, 245, 237, 265, 240, 256, 253, 244, 240, 247, 248, 231, 249, 260, 253, 262, 238, 241, 248, 248, 238, 245, 253, 245, 244, 250, 231, 252, 251, 246, 244, 244, 245, 255, 252, 259, 236, 234, 249, 251, 240, 243, 248, 251, 247, 240, 247, 259, 250, 248, 246, 254, 242, 242, 248, 242, 245, 232, 254, 237, 247, 244, 246, 238, 249, 240, 238, 246, 244, 250, 243, 235, 243, 225, 246, 242, 249, 236, 242, 235, 243, 241, 242, 236, 259, 243, 255, 235, 245, 243, 256]\n"
          ]
        }
      ],
      "source": [
        "presult=New(inode,ilink)\n",
        "node=presult[0].copy()\n",
        "link=presult[1].copy()\n",
        "A=link\n",
        "A=barabasi(1)\n",
        "print(A)"
      ]
    },
    {
      "cell_type": "code",
      "execution_count": null,
      "id": "bd14115c-61d7-4246-b7b8-af3538b33d71",
      "metadata": {
        "scrolled": true,
        "tags": [],
        "id": "bd14115c-61d7-4246-b7b8-af3538b33d71"
      },
      "outputs": [],
      "source": [
        "#print(\" Nodes :\",node,\"\\n\",\"\\n\",\"links :\",link,\"\\n\",\"\\n\",\"Length of list of nodes and links :\",len(node),len(link))\n"
      ]
    },
    {
      "cell_type": "code",
      "execution_count": null,
      "id": "a8961ba1-29eb-4b2e-b45c-050e3aa93b7b",
      "metadata": {
        "tags": [],
        "id": "a8961ba1-29eb-4b2e-b45c-050e3aa93b7b"
      },
      "outputs": [],
      "source": [
        "degree=[]\n",
        "for i in range(0, nf):\n",
        "    degree.append(0)\n",
        "node=[]\n",
        "for i in range(1, nf+1):\n",
        "    node.append(i)\n",
        "\n",
        "for i in range (0, nf):\n",
        "    j=0\n",
        "    for k in range(0, nf):\n",
        "        if(A[k]==i+1):\n",
        "            j=j+1\n",
        "    degree[i]=j/float(nf)\n",
        "cumulative=[]\n",
        "for i in range (0, nf):\n",
        "    cumulative.append(0)\n",
        "#cumulative[0]=0\n",
        "for i in range (0,nf-1):\n",
        "    cumulative[i+1]=cumulative[i]+degree[nf-1-i]\n",
        "\n",
        "cumulative[nf-1]=1\n",
        "cumulative[nf-1]\n",
        "cumulative1=[]\n",
        "for i in range (0, nf):\n",
        "    cumulative1.append(cumulative[i])\n",
        "modi=[]\n",
        "for i in range(0, nf):\n",
        "    modi.append(0)\n",
        "for i in range(0, nf):\n",
        "    if cumulative[i] not in modi:\n",
        "        modi[i]=cumulative[i]\n",
        "for i in range(0, nf):\n",
        "    cumulative[i]=modi[i]\n",
        "\n",
        "final=[]\n",
        "for i in range (0, nf):\n",
        "    final.append(cumulative[nf-1-i])"
      ]
    },
    {
      "cell_type": "code",
      "execution_count": null,
      "id": "695a692e-abc1-4548-a688-4e09d9c8f618",
      "metadata": {
        "tags": [],
        "id": "695a692e-abc1-4548-a688-4e09d9c8f618"
      },
      "outputs": [],
      "source": [
        "x1=[]\n",
        "x2=[]\n",
        "y1=[]\n",
        "y2=[]\n",
        "x=[]\n",
        "for i in range(1,nf+1):\n",
        "    x.append(i)\n",
        "for i in range(1, N+1):\n",
        "    x1.append(i)\n",
        "for i in range( N+1, nf+1):\n",
        "    x2.append(i)\n",
        "\n",
        "for i in range(1,  N+1):\n",
        "    y1.append(A[i-1])\n",
        "for i in range( N+1, nf+1):\n",
        "    y2.append(A[i-1])"
      ]
    },
    {
      "cell_type": "markdown",
      "id": "55a46b47",
      "metadata": {
        "id": "55a46b47"
      },
      "source": [
        "# Plot of number of nodes against links"
      ]
    },
    {
      "cell_type": "code",
      "execution_count": null,
      "id": "5ac6f15d",
      "metadata": {
        "id": "5ac6f15d",
        "outputId": "f34ceb14-3cb6-4318-df95-576dfb5d894a",
        "colab": {
          "base_uri": "https://localhost:8080/",
          "height": 295
        }
      },
      "outputs": [
        {
          "output_type": "display_data",
          "data": {
            "text/plain": [
              "<Figure size 432x288 with 1 Axes>"
            ],
            "image/png": "[encoded data removed]"
          },
          "metadata": {
            "needs_background": "light"
          }
        }
      ],
      "source": [
        "plt.scatter(x1, y1)\n",
        "plt.scatter(x2, y2)\n",
        "plt.legend([\"Initial nodes\" , \"New nodes\"])\n",
        "plt.title(\"Number of nodes vs Link\")\n",
        "plt.xlabel(\"Links\")\n",
        "plt.ylabel(\"Number of nodes\")\n",
        "plt.show()"
      ]
    },
    {
      "cell_type": "code",
      "execution_count": null,
      "id": "dfd4182e-6439-4bf9-a960-1b13daf64406",
      "metadata": {
        "tags": [],
        "id": "dfd4182e-6439-4bf9-a960-1b13daf64406",
        "outputId": "96437638-107c-4930-b51a-081a425508a4",
        "colab": {
          "base_uri": "https://localhost:8080/",
          "height": 295
        }
      },
      "outputs": [
        {
          "output_type": "display_data",
          "data": {
            "text/plain": [
              "<Figure size 432x288 with 1 Axes>"
            ],
            "image/png": "[encoded data removed]"
          },
          "metadata": {
            "needs_background": "light"
          }
        }
      ],
      "source": [
        "plt.scatter(node, degree)\n",
        "plt.title(\"Number of nodes vs Link\")\n",
        "plt.xlabel(\"Links\")\n",
        "plt.ylabel(\"Number of nodes\")\n",
        "plt.show()"
      ]
    },
    {
      "cell_type": "code",
      "execution_count": null,
      "id": "673ef0c6-8a70-4099-8daf-d51e83809b91",
      "metadata": {
        "tags": [],
        "id": "673ef0c6-8a70-4099-8daf-d51e83809b91",
        "outputId": "6777afbe-1048-4393-95ab-cbaa584c72a2",
        "colab": {
          "base_uri": "https://localhost:8080/",
          "height": 319
        }
      },
      "outputs": [
        {
          "output_type": "stream",
          "name": "stderr",
          "text": [
            "/usr/local/lib/python3.7/dist-packages/ipykernel_launcher.py:1: RuntimeWarning: divide by zero encountered in log\n",
            "  \"\"\"Entry point for launching an IPython kernel.\n"
          ]
        },
        {
          "output_type": "execute_result",
          "data": {
            "text/plain": [
              "<matplotlib.collections.PathCollection at 0x7f700c7dd190>"
            ]
          },
          "metadata": {},
          "execution_count": 18
        },
        {
          "output_type": "display_data",
          "data": {
            "text/plain": [
              "<Figure size 432x288 with 1 Axes>"
            ],
            "image/png": "[encoded data removed]"
          },
          "metadata": {
            "needs_background": "light"
          }
        }
      ],
      "source": [
        "plt.scatter(np.log(x), np.log(degree))"
      ]
    },
    {
      "cell_type": "code",
      "execution_count": null,
      "id": "33871d8d-4ea3-4fbc-8493-1cea311908e0",
      "metadata": {
        "tags": [],
        "id": "33871d8d-4ea3-4fbc-8493-1cea311908e0",
        "outputId": "09fc7591-2891-4ffd-80c2-af9503cbe772",
        "colab": {
          "base_uri": "https://localhost:8080/",
          "height": 283
        }
      },
      "outputs": [
        {
          "output_type": "execute_result",
          "data": {
            "text/plain": [
              "<matplotlib.collections.PathCollection at 0x7f700c7dd990>"
            ]
          },
          "metadata": {},
          "execution_count": 19
        },
        {
          "output_type": "display_data",
          "data": {
            "text/plain": [
              "<Figure size 432x288 with 1 Axes>"
            ],
            "image/png": "[encoded data removed]"
          },
          "metadata": {
            "needs_background": "light"
          }
        }
      ],
      "source": [
        "plt.scatter(node, cumulative1)"
      ]
    },
    {
      "cell_type": "code",
      "execution_count": null,
      "id": "0c6c117e-093d-4a5c-a4c7-244202d9b014",
      "metadata": {
        "tags": [],
        "id": "0c6c117e-093d-4a5c-a4c7-244202d9b014",
        "outputId": "1b31679f-6024-46e4-a7d9-97c0564bbf34",
        "colab": {
          "base_uri": "https://localhost:8080/",
          "height": 319
        }
      },
      "outputs": [
        {
          "output_type": "stream",
          "name": "stderr",
          "text": [
            "/usr/local/lib/python3.7/dist-packages/ipykernel_launcher.py:1: RuntimeWarning: divide by zero encountered in log\n",
            "  \"\"\"Entry point for launching an IPython kernel.\n"
          ]
        },
        {
          "output_type": "execute_result",
          "data": {
            "text/plain": [
              "<matplotlib.collections.PathCollection at 0x7f700ce10c90>"
            ]
          },
          "metadata": {},
          "execution_count": 20
        },
        {
          "output_type": "display_data",
          "data": {
            "text/plain": [
              "<Figure size 432x288 with 1 Axes>"
            ],
            "image/png": "[encoded data removed]"
          },
          "metadata": {
            "needs_background": "light"
          }
        }
      ],
      "source": [
        "plt.scatter(np.log(x), np.log(final))"
      ]
    },
    {
      "cell_type": "code",
      "source": [
        "fig, ax = plt.subplots(figsize = (9, 6))\n",
        "ax.scatter(x, final)\n",
        "\n",
        "# Set logarithmic scale on the both variables\n",
        "ax.set_xscale(\"log\")\n",
        "ax.set_yscale(\"log\")\n",
        "plt.xlim([1, 100])\n",
        "print(final)"
      ],
      "metadata": {
        "colab": {
          "base_uri": "https://localhost:8080/",
          "height": 416
        },
        "id": "NTsXxk-Td2SW",
        "outputId": "4ebaa9e0-6a3f-42aa-9033-07e3012546fb"
      },
      "id": "NTsXxk-Td2SW",
      "execution_count": null,
      "outputs": [
        {
          "output_type": "stream",
          "name": "stdout",
          "text": [
            "[1, 0, 0, 0, 0, 0, 0, 0, 0, 0, 0, 0, 0, 0, 0, 0, 0, 0, 0, 0, 0, 0, 0, 0, 0, 0, 0, 0, 0, 0, 0, 0, 0, 0, 0, 0, 0, 0, 0, 0, 0, 0, 0, 0, 0, 0, 0, 0, 0, 0, 0, 0, 0, 0, 0, 0, 0, 0, 0, 0, 0, 0, 0, 0, 0, 0, 0, 0, 0, 0, 0, 0, 0, 0, 0, 0, 0, 0, 0, 0, 0, 0, 0, 0, 0, 0, 0, 0, 0, 0, 0, 0, 0, 0, 0, 0, 0, 0, 0, 0, 0, 0, 0, 0, 0, 0, 0, 0, 0, 0, 0, 0, 0, 0, 0, 0, 0, 0, 0, 0, 0, 0, 0, 0, 0, 0, 0, 0, 0, 0, 0, 0, 0, 0, 0, 0, 0, 0, 0, 0, 0, 0, 0, 0, 0, 0, 0, 0, 0, 0, 0, 0, 0, 0, 0, 0, 0, 0, 0, 0, 0, 0, 0, 0, 0, 0, 0, 0, 0, 0, 0, 0, 0, 0, 0, 0, 0, 0, 0, 0, 0, 0, 0, 0, 0, 0, 0, 0, 0, 0, 0, 0, 0, 0, 0, 0, 0, 0, 0, 0, 0, 0, 0, 0, 0, 0, 0, 0, 0, 0, 0, 0, 0, 0, 0, 0, 0, 0, 0, 0, 0.9733333333333334, 0, 0, 0.9700000000000001, 0.9666666666666668, 0, 0.9633333333333335, 0.9600000000000002, 0.9566666666666669, 0.9500000000000002, 0.9433333333333335, 0.9333333333333335, 0.9266666666666667, 0.9066666666666667, 0.89, 0.86, 0.84, 0.8033333333333333, 0.7833333333333333, 0.7466666666666667, 0.7166666666666667, 0.6900000000000001, 0.6466666666666667, 0.5700000000000001, 0.52, 0.45999999999999996, 0.42666666666666664, 0.37666666666666665, 0.35666666666666663, 0.31666666666666665, 0.2833333333333333, 0.24333333333333332, 0.2033333333333333, 0.18999999999999997, 0.15999999999999998, 0.14666666666666664, 0.13666666666666663, 0.11666666666666663, 0.10666666666666663, 0.09999999999999996, 0.0933333333333333, 0.0833333333333333, 0.07999999999999997, 0.07666666666666665, 0, 0, 0, 0, 0, 0, 0, 0, 0, 0, 0.07333333333333332, 0, 0, 0.06999999999999999, 0.06666666666666667, 0, 0, 0, 0.05666666666666667, 0.05333333333333334, 0.043333333333333335, 0.03666666666666667, 0.03333333333333333, 0.03, 0, 0, 0.026666666666666665, 0, 0.01, 0, 0, 0.0033333333333333335, 0, 0, 0, 0]\n"
          ]
        },
        {
          "output_type": "display_data",
          "data": {
            "text/plain": [
              "<Figure size 648x432 with 1 Axes>"
            ],
            "image/png": "[encoded data removed]"
          },
          "metadata": {
            "needs_background": "light"
          }
        }
      ]
    },
    {
      "cell_type": "code",
      "execution_count": null,
      "id": "0022829a-e894-4f65-a9ba-0c7e92278735",
      "metadata": {
        "tags": [],
        "id": "0022829a-e894-4f65-a9ba-0c7e92278735"
      },
      "outputs": [],
      "source": [
        "#np.log(final)"
      ]
    },
    {
      "cell_type": "code",
      "execution_count": null,
      "id": "68884051-df23-481c-ad79-378f1cdfc313",
      "metadata": {
        "id": "68884051-df23-481c-ad79-378f1cdfc313"
      },
      "outputs": [],
      "source": [
        "#print(final)"
      ]
    },
    {
      "cell_type": "code",
      "execution_count": null,
      "id": "68417e24-c881-4706-acfa-e79513dc9027",
      "metadata": {
        "tags": [],
        "id": "68417e24-c881-4706-acfa-e79513dc9027"
      },
      "outputs": [],
      "source": [
        "#print(300*final)##"
      ]
    },
    {
      "cell_type": "code",
      "execution_count": null,
      "id": "b55dc6e3-db78-4374-8d78-c6fe5288fee2",
      "metadata": {
        "id": "b55dc6e3-db78-4374-8d78-c6fe5288fee2"
      },
      "outputs": [],
      "source": [
        "Final=[]\n",
        "for i in range (0, nf):\n",
        "    Final.append(nf*final[i])"
      ]
    },
    {
      "cell_type": "code",
      "execution_count": null,
      "id": "5eb45a7b-b6df-4de6-a3a8-3958b14ec733",
      "metadata": {
        "tags": [],
        "id": "5eb45a7b-b6df-4de6-a3a8-3958b14ec733"
      },
      "outputs": [],
      "source": [
        "#Final"
      ]
    },
    {
      "cell_type": "code",
      "execution_count": null,
      "id": "563f3337-8a69-48a0-95b5-1547af1b5199",
      "metadata": {
        "id": "563f3337-8a69-48a0-95b5-1547af1b5199"
      },
      "outputs": [],
      "source": [
        "Degree=[]\n",
        "for i in range (0, nf):\n",
        "    Degree.append(nf*degree[i])"
      ]
    },
    {
      "cell_type": "code",
      "execution_count": null,
      "id": "ef53b588-9ce7-4c17-b125-045f1e6d2038",
      "metadata": {
        "tags": [],
        "id": "ef53b588-9ce7-4c17-b125-045f1e6d2038"
      },
      "outputs": [],
      "source": [
        "#cumulative"
      ]
    },
    {
      "cell_type": "code",
      "execution_count": null,
      "id": "25fbada0",
      "metadata": {
        "id": "25fbada0"
      },
      "outputs": [],
      "source": []
    }
  ],
  "metadata": {
    "celltoolbar": "Slideshow",
    "kernelspec": {
      "display_name": "Python 3 (ipykernel)",
      "language": "python",
      "name": "python3"
    },
    "language_info": {
      "codemirror_mode": {
        "name": "ipython",
        "version": 3
      },
      "file_extension": ".py",
      "mimetype": "text/x-python",
      "name": "python",
      "nbconvert_exporter": "python",
      "pygments_lexer": "ipython3",
      "version": "3.9.12"
    },
    "colab": {
      "provenance": []
    }
  },
  "nbformat": 4,
  "nbformat_minor": 5
} 
